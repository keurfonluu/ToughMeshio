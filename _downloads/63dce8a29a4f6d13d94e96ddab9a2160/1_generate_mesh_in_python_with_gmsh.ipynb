{
  "cells": [
    {
      "cell_type": "code",
      "execution_count": null,
      "metadata": {
        "collapsed": false
      },
      "outputs": [],
      "source": [
        "%matplotlib inline"
      ]
    },
    {
      "cell_type": "markdown",
      "metadata": {},
      "source": [
        "\n# Generate mesh in Python with Gmsh\n\nThis examples describes how to generate a mesh using Gmsh in Python. It requires :mod:`pygmsh` v7 to be installed:\n\n```bash\npip install pygmsh --user\n```\nThe mesh can also be generated from scratch directly in Gmsh either using its GUI and/or its internal scripting language.\n\nNote that :mod:`toughio` is not required at this preliminary stage of the pre-processing. This example only intends to show how the mesh used in this sample problem has been generated. The user is free to use any meshing software as long as the mesh format is supported by :mod:`toughio` (through :mod:`meshio`).\n"
      ]
    },
    {
      "cell_type": "markdown",
      "metadata": {},
      "source": [
        "First, we import :mod:`numpy` and :mod:`pygmsh`.\n\n"
      ]
    },
    {
      "cell_type": "code",
      "execution_count": null,
      "metadata": {
        "collapsed": false
      },
      "outputs": [],
      "source": [
        "import numpy as np\nimport pygmsh"
      ]
    },
    {
      "cell_type": "markdown",
      "metadata": {},
      "source": [
        "We can define a bunch of useful variables such as the characteristic length or some parameters to characterize the model.\n\n"
      ]
    },
    {
      "cell_type": "code",
      "execution_count": null,
      "metadata": {
        "collapsed": false
      },
      "outputs": [],
      "source": [
        "lc = 100.0                       # Characteristic length of mesh\nxmin, xmax = 0.0, 2000.0         # X axis boundaries\nzmin, zmax = -500.0, -2500.0     # Z axis boundaries\n\ninj_z = -1500.0                  # Depth of injection\nflt_offset = 50.0                # Offset of fault\nflt_thick = 10.0                 # Thickness of fault\ntana = np.tan(np.deg2rad(80.0))  # Tangeant of dipping angle of fault\ndist = 500.0 - 0.5 * flt_thick   # Distance from injection point (0.0, -1500.0) to left wall of fault\n\nbnd_thick = 10.0                 # Thickness of boundary elements"
      ]
    },
    {
      "cell_type": "markdown",
      "metadata": {},
      "source": [
        "We start by defining the geometrical entity representing the fault.\nThe fault is represented as a finite-thickness element that intersects all the layers of the model.\nTo ensure conformity of the final mesh, each wall of the fault is represented by a segmented line where the positions of the nodes correspond to the intersections of the hanging (left) and foot (right) walls with the different layers.\nNote that the foot wall is inverted so that the fault entity forms a closed rectangular loop.\n\n"
      ]
    },
    {
      "cell_type": "code",
      "execution_count": null,
      "metadata": {
        "collapsed": false
      },
      "outputs": [],
      "source": [
        "depths = [zmin, -1300.0, -1450.0, -1550.0, -1700.0, zmax]\nfault_left = [[dist + (z - inj_z) / tana, z, 0.0] for z in depths]\n\ndepths = [zmin, -1300.0 + flt_offset, -1450.0 + flt_offset, -1550.0 + flt_offset, -1700.0 + flt_offset, zmax]\nfault_right = [[dist + (z - inj_z) / tana + flt_thick, z, 0.0] for z in depths]\n\nfault_pts = fault_left + fault_right[::-1]"
      ]
    },
    {
      "cell_type": "markdown",
      "metadata": {},
      "source": [
        "Now, we define the aquifer located at the left side of the fault.\n\n"
      ]
    },
    {
      "cell_type": "code",
      "execution_count": null,
      "metadata": {
        "collapsed": false
      },
      "outputs": [],
      "source": [
        "cenaq_left_pts = [\n    [xmin, -1450.0, 0.0],\n    [dist + (-1450.0 - inj_z) / tana, -1450.0, 0.0],\n    [dist + (-1550.0 - inj_z) / tana, -1550.0, 0.0],\n    [xmin, -1550.0, 0.0],\n]\ncapro_top_left_pts = [\n    [xmin, -1300.0, 0.0],\n    [dist + (-1300.0 - inj_z) / tana, -1300.0, 0.0],\n    [dist + (-1450.0 - inj_z) / tana, -1450.0, 0.0],\n    [xmin, -1450.0, 0.0],\n]\ncapro_bot_left_pts = [\n    [xmin, -1550.0, 0.0],\n    [dist + (-1550.0 - inj_z) / tana, -1550.0, 0.0],\n    [dist + (-1700.0 - inj_z) / tana, -1700.0, 0.0],\n    [xmin, -1700.0, 0.0],\n]\nuppaq_left_pts = [\n    [xmin, zmin, 0.0],\n    [dist + (zmin - inj_z) / tana, zmin, 0.0],\n    [dist + (-1300.0 - inj_z) / tana, -1300.0, 0.0],\n    [xmin, -1300.0, 0.0],\n]\nbasaq_left_pts = [\n    [xmin, -1700.0, 0.0],\n    [dist + (-1700.0 - inj_z) / tana, -1700.0, 0.0],\n    [dist + (zmax - inj_z) / tana, zmax, 0.0],\n    [xmin, zmax, 0.0],\n]"
      ]
    },
    {
      "cell_type": "markdown",
      "metadata": {},
      "source": [
        "Likewise, we also define the aquifer located at the right side of the fault.\n\n"
      ]
    },
    {
      "cell_type": "code",
      "execution_count": null,
      "metadata": {
        "collapsed": false
      },
      "outputs": [],
      "source": [
        "cenaq_right_pts = [\n    [dist + (-1450.0 - inj_z + flt_offset) / tana + flt_thick, -1450.0 + flt_offset, 0.0],\n    [xmax, -1450.0 + flt_offset, 0.0],\n    [xmax, -1550.0 + flt_offset, 0.0],\n    [dist + (-1550.0 - inj_z + flt_offset) / tana + flt_thick, -1550.0 + flt_offset, 0.0],\n]\ncapro_top_right_pts = [\n    [dist + (-1300.0 - inj_z + flt_offset) / tana + flt_thick, -1300.0 + flt_offset, 0.0],\n    [xmax, -1300.0 + flt_offset, 0.0],\n    [xmax, -1450.0 + flt_offset, 0.0],\n    [dist + (-1450.0 - inj_z + flt_offset) / tana + flt_thick, -1450.0 + flt_offset, 0.0],\n]\ncapro_bot_right_pts = [\n    [dist + (-1550.0 - inj_z + flt_offset) / tana + flt_thick, -1550.0 + flt_offset, 0.0],\n    [xmax, -1550.0 + flt_offset, 0.0],\n    [xmax, -1700.0 + flt_offset, 0.0],\n    [dist + (-1700.0 - inj_z + flt_offset) / tana + flt_thick, -1700.0 + flt_offset, 0.0],\n]\nuppaq_right_pts = [\n    [dist + (zmin - inj_z) / tana + flt_thick, zmin, 0.0],\n    [xmax, zmin, 0.0],\n    [xmax, -1300.0 + flt_offset, 0.0],\n    [dist + (-1300.0 - inj_z + flt_offset) / tana + flt_thick, -1300.0 + flt_offset, 0.0],\n]\nbasaq_right_pts = [\n    [dist + (-1700.0 - inj_z + flt_offset) / tana + flt_thick, -1700.0 + flt_offset, 0.0],\n    [xmax, -1700.0 + flt_offset, 0.0],\n    [xmax, zmax, 0.0],\n    [dist + (zmax-inj_z) / tana + flt_thick, zmax, 0.0],\n]"
      ]
    },
    {
      "cell_type": "markdown",
      "metadata": {},
      "source": [
        "Then, we define the boundary elements.\nIn this sample problem, a no-flow boundary condition is imposed on the left side of the model (default in TOUGH), and Dirichlet boundary conditions are imposed elsewhere.\nThus, physical boundary elements must be defined at the top, right and bottom sides of the model.\nSimilarly to the fault entity, boundary entities are segmented to ensure conformity of the final mesh.\n\n"
      ]
    },
    {
      "cell_type": "code",
      "execution_count": null,
      "metadata": {
        "collapsed": false
      },
      "outputs": [],
      "source": [
        "bound_right_pts = [\n    [xmax, zmin, 0.0],\n    [xmax + bnd_thick, zmin, 0.0],\n    [xmax + bnd_thick, zmax, 0.0],\n    [xmax, zmax, 0.0],\n    [xmax, -1700.0 + flt_offset, 0.0],\n    [xmax, -1550.0 + flt_offset, 0.0],\n    [xmax, -1450.0 + flt_offset, 0.0],\n    [xmax, -1300.0 + flt_offset, 0.0],\n]\nbound_top_pts = [\n    [xmin, zmin, 0.0],\n    [dist + (zmin - inj_z) / tana, zmin, 0.0],\n    [dist + (zmin - inj_z) / tana + flt_thick, zmin, 0.0],\n    [xmax, zmin, 0.0],\n    [xmax + bnd_thick, zmin, 0.0],\n    [xmax + bnd_thick, zmin + bnd_thick, 0.0],\n    [dist + (zmin - inj_z + bnd_thick) / tana + flt_thick, zmin + bnd_thick, 0.0],\n    [dist + (zmin - inj_z + bnd_thick) / tana, zmin + bnd_thick, 0.0],\n    [xmin, zmin + bnd_thick, 0.0],\n]\nbound_bot_pts = [\n    [xmin, zmax, 0.0],\n    [dist + (zmax - inj_z) / tana, zmax, 0.0],\n    [dist + (zmax - inj_z) / tana + flt_thick, zmax, 0.0],\n    [xmax, zmax, 0.0],\n    [xmax + bnd_thick, zmax, 0.0],\n    [xmax + bnd_thick, zmax - bnd_thick, 0.0],\n    [dist + (zmax - inj_z - bnd_thick) / tana + flt_thick, zmax - bnd_thick, 0.0],\n    [dist + (zmax - inj_z - bnd_thick) / tana, zmax - bnd_thick, 0.0],\n    [xmin, zmax - bnd_thick, 0.0],\n]"
      ]
    },
    {
      "cell_type": "markdown",
      "metadata": {},
      "source": [
        "Once all the points have been created, we can now generate the geometry, assign rock types/materials as Gmsh physical properties, and generate the mesh.\nTo refine the mesh in the injection zone, the characteristic length of each layer entity is increased the farther we get from the injection point.\nNote that layers are defined such that their characteristic lengths are increasing. This is because Gmsh keeps the first node defined in the geometry in case it detects duplicated nodes.\n\n"
      ]
    },
    {
      "cell_type": "code",
      "execution_count": null,
      "metadata": {
        "collapsed": false
      },
      "outputs": [],
      "source": [
        "with pygmsh.geo.Geometry() as geo:\n    # Define polygons\n    fault = geo.add_polygon(fault_pts, mesh_size=0.1 * lc)\n    cenaq_left = geo.add_polygon(cenaq_left_pts, mesh_size=0.1 * lc)\n    capro_top_left = geo.add_polygon(capro_top_left_pts, mesh_size=0.2 * lc)\n    capro_bot_left = geo.add_polygon(capro_bot_left_pts, mesh_size=0.2 * lc)\n    uppaq_left = geo.add_polygon(uppaq_left_pts, mesh_size=2.0 * lc)\n    basaq_left = geo.add_polygon(basaq_left_pts, mesh_size=2.0 * lc)\n    cenaq_right = geo.add_polygon(cenaq_right_pts, mesh_size=0.75 * lc)\n    capro_top_right = geo.add_polygon(capro_top_right_pts, mesh_size=0.75 * lc)\n    capro_bot_right = geo.add_polygon(capro_bot_right_pts, mesh_size=0.75 * lc)\n    uppaq_right = geo.add_polygon(uppaq_right_pts, mesh_size=2.0 * lc)\n    basaq_right = geo.add_polygon(basaq_right_pts, mesh_size=2.0 * lc)\n    bound_right = geo.add_polygon(bound_right_pts, mesh_size=lc)\n    bound_top = geo.add_polygon(bound_top_pts, mesh_size=lc)\n    bound_bot = geo.add_polygon(bound_bot_pts, mesh_size=lc)\n\n    # Define materials\n    geo.add_physical([uppaq_left, uppaq_right], \"UPPAQ\")\n    geo.add_physical([capro_top_left, capro_bot_left, capro_top_right, capro_bot_right], \"CAPRO\")\n    geo.add_physical([cenaq_left, cenaq_right], \"CENAQ\")\n    geo.add_physical([basaq_left, basaq_right], \"BASAQ\")\n    geo.add_physical(fault, \"FAULT\")\n    geo.add_physical([bound_right, bound_top, bound_bot], \"BOUND\")\n\n    # Remove duplicate entities\n    geo.env.removeAllDuplicates()\n    mesh = geo.generate_mesh(dim=2, algorithm=6)\n\n    # Convert cell sets to material\n    cell_data = [np.empty(len(c.data), dtype=int) for c in mesh.cells]\n    field_data = {}\n    for i, (k, v) in enumerate(mesh.cell_sets.items()):\n        if k:\n            field_data[k] = np.array([i + 1, 3])\n            for ii, vv in enumerate(v):\n                cell_data[ii][vv] = i + 1\n    mesh.cell_data[\"material\"] = cell_data\n    mesh.field_data.update(field_data)\n    mesh.cell_sets = {}\n\n    # Remove lower dimension entities\n    idx = [i for i, cell in enumerate(mesh.cells) if cell.type == \"triangle\"]\n    mesh.cells = [mesh.cells[i] for i in idx]\n    mesh.cell_data = {k: [v[i] for i in idx] for k, v in mesh.cell_data.items()}\n\n    # Export the mesh for post-processing\n    mesh.write(\"mesh.vtu\")"
      ]
    },
    {
      "cell_type": "markdown",
      "metadata": {},
      "source": [
        "The generated mesh can be visualized in Python with :mod:`pyvista`.\n\n"
      ]
    },
    {
      "cell_type": "code",
      "execution_count": null,
      "metadata": {
        "collapsed": false
      },
      "outputs": [],
      "source": [
        "import pyvista\npyvista.set_plot_theme(\"document\")\n\np = pyvista.Plotter(window_size=(800, 800))\np.add_mesh(\n    mesh=pyvista.from_meshio(mesh),\n    scalar_bar_args={\"title\": \"Materials\"},\n    show_scalar_bar=True,\n    show_edges=True,\n)\np.view_xy()\np.show()"
      ]
    }
  ],
  "metadata": {
    "kernelspec": {
      "display_name": "Python 3",
      "language": "python",
      "name": "python3"
    },
    "language_info": {
      "codemirror_mode": {
        "name": "ipython",
        "version": 3
      },
      "file_extension": ".py",
      "mimetype": "text/x-python",
      "name": "python",
      "nbconvert_exporter": "python",
      "pygments_lexer": "ipython3",
      "version": "3.9.19"
    }
  },
  "nbformat": 4,
  "nbformat_minor": 0
}