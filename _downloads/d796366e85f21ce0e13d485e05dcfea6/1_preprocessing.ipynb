{
  "cells": [
    {
      "cell_type": "code",
      "execution_count": null,
      "metadata": {
        "collapsed": false
      },
      "outputs": [],
      "source": [
        "%matplotlib inline"
      ]
    },
    {
      "cell_type": "markdown",
      "metadata": {},
      "source": [
        "\n# Generate input files\n\nThe TOUGH input file is shown below and specifies a cylindrical heater of 0.3 m radius and 4.5 m height, that provides a constant output of 3 kW into a porous medium with uniform initial conditions of 18\u00b0C temperature, 1 bar pressure, and 20% gas saturation. The mesh consists of a one-dimensional radial grid of 120 active elements extending to a radius of 10,000 m (practically infinite for the time scales of interest here), with an additional inactive element of zero volume representing constant boundary conditions. Properly speaking, the problem represents one unit of an infinite linear string of identical heaters; if a single heater were to be modeled, important end effects would occur at the top and bottom, and a two-dimensional RZ grid would have to be used.\n\nMost of the formation parameters are identical to data used in previous modeling studies of high-level nuclear waste emplacement at Yucca Mountain (Pruess et al., 1990). As we do not include fracture effects in the present simulation, heat pipe effects would be very weak at the low rock matrix permeabilities (of order 1 microdarcy) encountered at Yucca Mountain. To get a more interesting behavior, we have arbitrarily increased absolute permeability by something like a factor 10,000, to 20 millidarcy, and for consistency have reduced capillary pressures by a factor (10,000)\\ :sup:`1/2` = 100 in comparison to typical Yucca Mountain data.\n\n```\n*rhp* 1-D RADIAL HEAT PIPE\nMESHMAKER1----*----2----*----3----*----4----*----5----*----6----*----7----*----8\nRZ2D\nRADII\n    1\n        0.\nEQUID\n    1             .3\nLOGAR\n99           1.E2\nLOGAR\n20           1.E4\nEQUID\n    1            0.0\nLAYER----1----*----2----*----3----*----4----*----5----*----6----*----7----*----8\n    1\n    4.5\n\nROCKS----1----*----2----*----3----*----4----*----5----*----6----*----7----*----8\nPOMED    1     2550.       .10   20.E-15   20.E-15   20.E-15       2.0     800.0\n                                     .25\n\nMULTI----1----*----2----*----3----*----4----*----5----*----6----*----7----*----8\n    2    3    2    6\nSTART----1----*----2----*----3----*----4----*----5----*----6----*----7----*----8\n----*----1 MOP: 123456789*123456789*1234 ---*----5----*----6----*----7----*----8\nPARAM----1----*----2----*----3----*----4----*----5----*----6----*----7----*----8\n2 250     25000003000000002 47 1 1                   1.80\n           3.15576E8       -1.\n      1.E3      9.E3      9.E4      4.E5\n     1.E-5     1.E00                                   1.E-7\n                1.E5                0.20                 18.\nRPCAP----1----*----2----*----3----*----4----*----5----*----6----*----7----*----8\n    7        0.45000    9.6E-4        1.\n    7        0.45000    1.0E-3   8.0E-05      5.E8        1.\nTIMES----1----*----2----*----3----*----4----*----5----*----6----*----7----*----8\n    3\n 3.15576E7  1.2559E8 3.15576E8\nGENER----1----*----2----*----3----*----4----*----5----*----6----*----7----*----8\nA1  1HTR 1                         HEAT       3.E3\n\nENDCY----1----*----2----*----3----*----4----*----5----*----6----*----7----*----8\n```\nThis example shows how to generate this file from scratch block by block using :mod:`toughio`.\n"
      ]
    },
    {
      "cell_type": "markdown",
      "metadata": {},
      "source": [
        "First, we import :mod:`numpy` and :mod:`toughio`.\n\n"
      ]
    },
    {
      "cell_type": "code",
      "execution_count": null,
      "metadata": {
        "collapsed": false
      },
      "outputs": [],
      "source": [
        "import numpy as np\nimport toughio"
      ]
    },
    {
      "cell_type": "markdown",
      "metadata": {},
      "source": [
        "In this example, we start with the blocks MESHM and LAYER, and use the function :func:`toughio.meshmaker.from_meshmaker` to generate the radial grid. We first define a dictionary with the key \"meshmaker\" and provide the type of mesh (RZ2D) and the parameters. Once the mesh is generated, we use the method :meth:`toughio.Mesh.write_tough` and :meth:`toughio.Mesh.write` to write the files `MESH` and `mesh.pickle`, respectively. Exporting the mesh is useful for postprocessing as it contains information about the mesh.\n\n"
      ]
    },
    {
      "cell_type": "code",
      "execution_count": null,
      "metadata": {
        "collapsed": false
      },
      "outputs": [],
      "source": [
        "parameters = {\n    \"meshmaker\": {\n        \"type\": \"rz2d\",\n        \"parameters\": [\n            {\"type\": \"radii\", \"radii\": [0.0]},\n            {\"type\": \"equid\", \"n_increment\": 1, \"size\": 0.3},\n            {\"type\": \"logar\", \"n_increment\": 99, \"radius\": 100.0},\n            {\"type\": \"logar\", \"n_increment\": 20, \"radius\": 10000.0},\n            {\"type\": \"equid\", \"n_increment\": 1, \"size\": 0.0},\n            {\"type\": \"layer\", \"thicknesses\": [4.5]},\n        ]\n    }\n}\nmesh = toughio.meshmaker.from_meshmaker(parameters, material=\"POMED\")\nmesh.write_tough(\"MESH\")\nmesh.write(\"mesh.pickle\")"
      ]
    },
    {
      "cell_type": "markdown",
      "metadata": {},
      "source": [
        "To generate the main input file, let us initialize a new dictionary with a title (optional).\n\n"
      ]
    },
    {
      "cell_type": "code",
      "execution_count": null,
      "metadata": {
        "collapsed": false
      },
      "outputs": [],
      "source": [
        "parameters = {\n    \"title\": \"*rhp* 1-D RADIAL HEAT PIPE\",\n}"
      ]
    },
    {
      "cell_type": "markdown",
      "metadata": {},
      "source": [
        "The block ROCKS contains a single material and can be defined using the key \"rocks\", which is a dictionary with keys corresponding to the names of the materials.\n\n"
      ]
    },
    {
      "cell_type": "code",
      "execution_count": null,
      "metadata": {
        "collapsed": false
      },
      "outputs": [],
      "source": [
        "parameters[\"rocks\"] = {\n    \"POMED\": {\n        \"density\": 2550.0,\n        \"porosity\": 0.1,\n        \"permeability\": 20.0e-15,\n        \"conductivity\": 2.0,\n        \"specific_heat\": 800.0,\n        \"tortuosity\": 0.25,\n    },\n}"
      ]
    },
    {
      "cell_type": "markdown",
      "metadata": {},
      "source": [
        "We can initialize the block MULTI by setting the equation-of-state (EOS3) and the isothermal option. The key \"eos\" defines the number of mass components and phases while the isothermal option determines the number of equations (i.e., the number of equations is equal to the number of mass components for isothermal simulations). Alternatively, the number of mass components and phases can be fixed using the keys \"n_component\" and \"n_phase\", respectively.\n\n"
      ]
    },
    {
      "cell_type": "code",
      "execution_count": null,
      "metadata": {
        "collapsed": false
      },
      "outputs": [],
      "source": [
        "parameters[\"eos\"] = \"eos3\"\nparameters[\"isothermal\"] = False"
      ]
    },
    {
      "cell_type": "markdown",
      "metadata": {},
      "source": [
        "The block START allows INCON data to be defined in arbitrary order and not present for all grid blocks. This option can be enable using the key \"start\".\n\n"
      ]
    },
    {
      "cell_type": "code",
      "execution_count": null,
      "metadata": {
        "collapsed": false
      },
      "outputs": [],
      "source": [
        "parameters[\"start\"] = True"
      ]
    },
    {
      "cell_type": "markdown",
      "metadata": {},
      "source": [
        "The block PARAM is mainly defined by the key \"options\". However, the MOP values and the default initial conditions for all grid blocks (last record of the block PARAM) are set in the keys \"extra_options\" and \"default\", respectively.\n\n"
      ]
    },
    {
      "cell_type": "code",
      "execution_count": null,
      "metadata": {
        "collapsed": false
      },
      "outputs": [],
      "source": [
        "parameters[\"options\"] = {\n    \"verbosity\": 2,\n    \"n_cycle\": 250,\n    \"n_cycle_print\": 250,\n    \"temperature_dependence_gas\": 1.8,\n    \"t_max\": 10.0 * 24.0 * 3600.0 * 365.25,\n    \"t_steps\": [1.0e3, 9.0e3, 9.0e4, 4.0e5],\n    \"eps1\": 1.0e-5,\n    \"eps2\": 1.0,\n    \"derivative_factor\": 1.0e-7,\n}\nparameters[\"extra_options\"] = {\n    1: 1,\n    5: 3,\n    16: 4,\n    17: 7,\n    19: 1,\n    21: 6,\n}\nparameters[\"default\"] = {\n    \"initial_condition\": [1.0e5, 0.2, 18.0],\n}"
      ]
    },
    {
      "cell_type": "markdown",
      "metadata": {},
      "source": [
        "The block RPCAP controls the default relative permeability and capillarity models for all materials. Therefore, they are also defined in the dictionary key \"default\".\n\n"
      ]
    },
    {
      "cell_type": "code",
      "execution_count": null,
      "metadata": {
        "collapsed": false
      },
      "outputs": [],
      "source": [
        "parameters[\"default\"][\"relative_permeability\"] = {\n    \"id\": 7,\n    \"parameters\": [0.45, 0.00096, 1.0],\n}\nparameters[\"default\"][\"capillarity\"] = {\n    \"id\": 7,\n    \"parameters\": [0.45, 0.001, 8.0e-5, 5.0e8, 1.0],\n}"
      ]
    },
    {
      "cell_type": "markdown",
      "metadata": {},
      "source": [
        "The block TIMES is simply a list of values (in second) defined using the homologous key \"times\". Here, we request an output after 1, 4 and 10 years.\n\n"
      ]
    },
    {
      "cell_type": "code",
      "execution_count": null,
      "metadata": {
        "collapsed": false
      },
      "outputs": [],
      "source": [
        "parameters[\"times\"] = np.array([1.0, 4.0, 10.0]) * 24.0 * 3600.0 * 365.25"
      ]
    },
    {
      "cell_type": "markdown",
      "metadata": {},
      "source": [
        "The block GENER is defined by the key \"generators\" which is a list of dictionaries with keys \"label\", \"name\" (optional), \"type\", \"times\", \"rates\" and \"specific_enthalpy\". \"label\" is the name of the element where the component is injected/produced. Here, we use the method :meth:`toughio.Mesh.near` to get the index of the element the nearest to the query point.\n\n"
      ]
    },
    {
      "cell_type": "code",
      "execution_count": null,
      "metadata": {
        "collapsed": false
      },
      "outputs": [],
      "source": [
        "parameters[\"generators\"] = [\n    {\n        \"label\": mesh.labels[mesh.near([0.0, 0.0, 0.0])],\n        \"name\": \"HTR 1\",\n        \"type\": \"HEAT\",\n        \"rates\": 3.0e3,\n    },\n]"
      ]
    },
    {
      "cell_type": "markdown",
      "metadata": {},
      "source": [
        "Once all the parameters are defined, the input file is ready to written using the function :func:`toughio.write_input`.\n\n"
      ]
    },
    {
      "cell_type": "code",
      "execution_count": null,
      "metadata": {
        "collapsed": false
      },
      "outputs": [],
      "source": [
        "toughio.write_input(\"INFILE\", parameters)"
      ]
    }
  ],
  "metadata": {
    "kernelspec": {
      "display_name": "Python 3",
      "language": "python",
      "name": "python3"
    },
    "language_info": {
      "codemirror_mode": {
        "name": "ipython",
        "version": 3
      },
      "file_extension": ".py",
      "mimetype": "text/x-python",
      "name": "python",
      "nbconvert_exporter": "python",
      "pygments_lexer": "ipython3",
      "version": "3.9.19"
    }
  },
  "nbformat": 4,
  "nbformat_minor": 0
}