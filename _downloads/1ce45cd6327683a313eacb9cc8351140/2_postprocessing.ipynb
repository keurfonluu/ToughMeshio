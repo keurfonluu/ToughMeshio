{
  "cells": [
    {
      "cell_type": "code",
      "execution_count": null,
      "metadata": {
        "collapsed": false
      },
      "outputs": [],
      "source": [
        "%matplotlib inline"
      ]
    },
    {
      "cell_type": "markdown",
      "metadata": {},
      "source": [
        "\n# Plot profiles\n\nThe objective of this example is to import the output results and plot the profiles of temperature, pressure, liquid saturation and air mass fraction.\n"
      ]
    },
    {
      "cell_type": "markdown",
      "metadata": {},
      "source": [
        "Here, we assume that the simulation's output have been written in the file \"OUTPUT\". To import the results, we use the function :func:`toughio.read_output`. The variable `outputs` is a list with three :class:`toughio.Output` corresponding to the three time steps requested in the preprocessing example. In this example, we want to look at the last time step (index -1).\n\n"
      ]
    },
    {
      "cell_type": "code",
      "execution_count": null,
      "metadata": {
        "collapsed": false
      },
      "outputs": [],
      "source": [
        "import numpy as np\nimport toughio\n\noutputs = toughio.read_output(\"OUTPUT\")\noutput = outputs[-1]\n\nt = output.data[\"T\"]\np = output.data[\"P\"]\nsl = output.data[\"SL\"]\nxm = output.data[\"XAIRG\"]"
      ]
    },
    {
      "cell_type": "markdown",
      "metadata": {},
      "source": [
        "It is well known that for the stated conditions (1-D radial geometry, homogeneous medium, uniform initial conditions, and a constant-rate line source) the problem has a similarity solution: The partial differential equations for this complex two-phase flow problem can be rigorously transformed into a set of ordinary differential equations in the variable $Z = R/\\sqrt{t}$, which can be easily solved to any degree of accuracy desired by means of one-dimensional numerical integration (O'Sullivan, 1981). Comparison of TOUGH2 simulations with the semi-analytical similarity solution has shown excellent agreement (Doughty and Pruess, 1992). To define such variable, we first need to import the mesh \n\n"
      ]
    },
    {
      "cell_type": "code",
      "execution_count": null,
      "metadata": {
        "collapsed": false
      },
      "outputs": [],
      "source": [
        "mesh = toughio.read_mesh(\"mesh.pickle\")\nR = np.log(mesh.centers[:, 0] / (output.time) ** 0.5)"
      ]
    },
    {
      "cell_type": "markdown",
      "metadata": {},
      "source": [
        "Now that the required data have been imported, we can plot the results using :mod:`matplotlib`.\n\n"
      ]
    },
    {
      "cell_type": "code",
      "execution_count": null,
      "metadata": {
        "collapsed": false
      },
      "outputs": [],
      "source": [
        "import matplotlib.pyplot as plt\nplt.rc(\"font\", size=12)\n\nfig, ax1 = plt.subplots(figsize=(8, 5))\nax2 = ax1.twinx()\n\nax1.plot(R, t, color=\"black\", linestyle=\"--\", label=\"Temperature\")\nax1.set_ylim(0.0, 260.0)\nax1.set_ylabel(\"Temperature ($\\degree$C)\")\n\nax2.plot(R, sl, label=\"Liquid saturation\")\nax2.plot(R, xm, label=\"Air mass fraction\")\nax2.plot(R, p * 1.0e-5, label=\"Pressure (bar)\")\nax2.set_ylim(0.0, 1.3)\nax2.set_ylabel(\"Liquid saturation, air mass fraction, pressure\")\n\nax1.set_xlim(R.min(), -4.0)\nax1.set_xlabel(\"$ln(R/\\sqrt{t})$\")\n\nfig.legend(\n    loc=\"lower left\",\n    bbox_to_anchor=(0.0, 0.0),\n    bbox_transform=ax1.transAxes,\n    frameon=False,\n)"
      ]
    }
  ],
  "metadata": {
    "kernelspec": {
      "display_name": "Python 3",
      "language": "python",
      "name": "python3"
    },
    "language_info": {
      "codemirror_mode": {
        "name": "ipython",
        "version": 3
      },
      "file_extension": ".py",
      "mimetype": "text/x-python",
      "name": "python",
      "nbconvert_exporter": "python",
      "pygments_lexer": "ipython3",
      "version": "3.9.19"
    }
  },
  "nbformat": 4,
  "nbformat_minor": 0
}