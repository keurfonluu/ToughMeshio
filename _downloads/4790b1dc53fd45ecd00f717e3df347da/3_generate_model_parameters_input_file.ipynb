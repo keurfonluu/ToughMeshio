{
  "cells": [
    {
      "cell_type": "code",
      "execution_count": null,
      "metadata": {
        "collapsed": false
      },
      "outputs": [],
      "source": [
        "%matplotlib inline"
      ]
    },
    {
      "cell_type": "markdown",
      "metadata": {},
      "source": [
        "\n# Generate model parameters input file\n\nNow that the mesh has been pre-processed, we can define the TOUGH simulation parameters.\n"
      ]
    },
    {
      "cell_type": "markdown",
      "metadata": {},
      "source": [
        "As always, we first import the required modules for this example.\n\n"
      ]
    },
    {
      "cell_type": "code",
      "execution_count": null,
      "metadata": {
        "collapsed": false
      },
      "outputs": [],
      "source": [
        "import numpy as np\nimport toughio"
      ]
    },
    {
      "cell_type": "markdown",
      "metadata": {},
      "source": [
        "A :mod:`toughio` input file is defined as a nested dictionary with meaningful keywords.\nLet's initialize our parameter dictionary by giving the simulation a title and defining the equation-of-state. This example will also be run isothermally.\n\n"
      ]
    },
    {
      "cell_type": "code",
      "execution_count": null,
      "metadata": {
        "collapsed": false
      },
      "outputs": [],
      "source": [
        "parameters = {\n    \"title\": \"Simulation of CO2 leak along a fault\",\n    \"eos\": \"eco2n\",\n    \"isothermal\": True,\n    \"start\": True,\n}"
      ]
    },
    {
      "cell_type": "markdown",
      "metadata": {},
      "source": [
        "We can also define some default values that are shared by the different materials.\n\n"
      ]
    },
    {
      "cell_type": "code",
      "execution_count": null,
      "metadata": {
        "collapsed": false
      },
      "outputs": [],
      "source": [
        "parameters[\"default\"] = {\n    \"density\": 2260.0,\n    \"conductivity\": 1.8,\n    \"specific_heat\": 1500.0,\n    \"compressibility\": 8.33e-10,\n    \"conductivity_dry\": 1.8,\n    \"tortuosity\": 0.7,\n    \"relative_permeability\": {\n        \"id\": 3,\n        \"parameters\": [0.3, 0.05],\n    },\n    \"capillarity\": {\n        \"id\": 7,\n        \"parameters\": [0.457, 0.0, 5.03e-5, 5.0e7, 0.99],\n    },\n}"
      ]
    },
    {
      "cell_type": "markdown",
      "metadata": {},
      "source": [
        "Now, we define specific material properties (different than the default ones previously defined) for each material in the mesh (i.e., we write the block `ROCKS`).\n\n"
      ]
    },
    {
      "cell_type": "code",
      "execution_count": null,
      "metadata": {
        "collapsed": false
      },
      "outputs": [],
      "source": [
        "parameters[\"rocks\"] = {\n    \"UPPAQ\": {\n        \"porosity\": 0.10,\n        \"permeability\": 1.0e-14,\n    },\n    \"CENAQ\": {\n        \"porosity\": 0.10,\n        \"permeability\": 1.0e-13,\n    },\n    \"BASAQ\": {\n        \"porosity\": 0.01,\n        \"permeability\": 1.0e-16,\n        \"relative_permeability\": {\n            \"id\": 3,\n            \"parameters\": [0.3, 0.05],\n        },\n        \"capillarity\": {\n            \"id\": 7,\n            \"parameters\": [0.457, 0.0, 1.61e-6, 5.0e7, 0.99],\n        },\n    },\n    \"CAPRO\": {\n        \"porosity\": 0.01,\n        \"permeability\": 1.0e-19,\n        \"relative_permeability\": {\n            \"id\": 3,\n            \"parameters\": [0.3, 0.05],\n        },\n        \"capillarity\": {\n            \"id\": 7,\n            \"parameters\": [0.457, 0.0, 1.61e-6, 5.0e7, 0.99],\n        },\n    },\n    \"FAULT\": {\n        \"porosity\": 0.10,\n        \"permeability\": 1.0e-13,\n    },\n    \"BOUND\": {\n        \"specific_heat\": 1.0e55,\n        \"porosity\": 0.10,\n        \"permeability\": 1.0e-13,\n    },\n}"
      ]
    },
    {
      "cell_type": "markdown",
      "metadata": {},
      "source": [
        "We can specify some simulation parameters (block `PARAM`), options (`MOP`) and selections (block `SELEC`).\n\n"
      ]
    },
    {
      "cell_type": "code",
      "execution_count": null,
      "metadata": {
        "collapsed": false
      },
      "outputs": [],
      "source": [
        "parameters[\"options\"] = {\n    \"n_cycle\": 9999,\n    \"n_cycle_print\": 9999,\n    \"t_ini\": 0.0,\n    \"t_max\": 3.0 * 365.25 * 24.0 * 3600.0,\n    \"t_steps\": 24.0 * 3600.0,\n    \"t_step_max\": 1.0e8,\n    \"t_reduce_factor\": 4,\n    \"eps1\": 1.0e-4,\n    \"eps2\": 1.0,\n    \"gravity\": 9.81,\n}\nparameters[\"extra_options\"] = {\n    16: 4,\n    21: 8,\n}\nparameters[\"selections\"] = {\n    \"integers\": {\n        1: 1,\n        13: 2,\n        16: 2,\n    },\n    \"floats\": [0.8, 0.8],\n}"
      ]
    },
    {
      "cell_type": "markdown",
      "metadata": {},
      "source": [
        "We also have to define the generator (i.e., the source).\nHowever, we first need to know the name of the cell in which the CO2 is injected. Let's unpickle the mesh back and use the method :meth:`toughio.Mesh.near` to get the name of the injection element.\n\n"
      ]
    },
    {
      "cell_type": "code",
      "execution_count": null,
      "metadata": {
        "collapsed": false
      },
      "outputs": [],
      "source": [
        "mesh = toughio.read_mesh(\"mesh.pickle\")\nlabel = mesh.labels[mesh.near((0.0, 0.0, -1500.0))]"
      ]
    },
    {
      "cell_type": "markdown",
      "metadata": {},
      "source": [
        "Now we can add the generator to the parameters by specifying the type and injection rate (block `GENER`).\n\n"
      ]
    },
    {
      "cell_type": "code",
      "execution_count": null,
      "metadata": {
        "collapsed": false
      },
      "outputs": [],
      "source": [
        "parameters[\"generators\"] = [\n    {\n        \"label\": label,\n        \"type\": \"COM3\",\n        \"rates\": 0.02,\n    },\n]"
      ]
    },
    {
      "cell_type": "markdown",
      "metadata": {},
      "source": [
        "Let's customize the outputs.\nFor this example, we want TOUGH to save the output every three months (i.e., 4 outputs per year). To reduce the size of the output file, we also want TOUGH to only save the saturation of phase 1 (gas) in addition to the cell coordinates. Note that this option is only available in TOUGH3.\n\n"
      ]
    },
    {
      "cell_type": "code",
      "execution_count": null,
      "metadata": {
        "collapsed": false
      },
      "outputs": [],
      "source": [
        "parameters[\"times\"] = np.arange(1, 13) * 90.0 * 24.0 * 3600.0\nparameters[\"output\"] = {\n    \"variables\": [\n        {\"name\": \"saturation\", \"options\": 1},\n        {\"name\": \"coordinate\"},\n    ],\n}"
      ]
    },
    {
      "cell_type": "markdown",
      "metadata": {},
      "source": [
        "Finally, we can export the model parameters input file by using the function :func:`toughio.write_input`.\n\n"
      ]
    },
    {
      "cell_type": "code",
      "execution_count": null,
      "metadata": {
        "collapsed": false
      },
      "outputs": [],
      "source": [
        "toughio.write_input(\"INFILE\", parameters)"
      ]
    },
    {
      "cell_type": "markdown",
      "metadata": {},
      "source": [
        "At this stage, all the input files required to run the simulation have been generated. We can now simply call TOUGH using EOS ECO2n (e.g., :code:`tough3-eco2n` for TOUGH3).\n\n"
      ]
    }
  ],
  "metadata": {
    "kernelspec": {
      "display_name": "Python 3",
      "language": "python",
      "name": "python3"
    },
    "language_info": {
      "codemirror_mode": {
        "name": "ipython",
        "version": 3
      },
      "file_extension": ".py",
      "mimetype": "text/x-python",
      "name": "python",
      "nbconvert_exporter": "python",
      "pygments_lexer": "ipython3",
      "version": "3.9.19"
    }
  },
  "nbformat": 4,
  "nbformat_minor": 0
}