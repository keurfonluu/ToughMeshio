{
  "cells": [
    {
      "cell_type": "code",
      "execution_count": null,
      "metadata": {
        "collapsed": false
      },
      "outputs": [],
      "source": [
        "%matplotlib inline"
      ]
    },
    {
      "cell_type": "markdown",
      "metadata": {},
      "source": [
        "\n# Import and visualize simulation outputs in PyVista\n\nOnce the TOUGH simulation has ended, there is not much things left to do with :mod:`toughio`. We can either:\n\n-   Run the command :code:`toughio-export OUTPUT_ELEME.csv -m mesh.pickle` and drag-and-drop the generated VTK file in a compatible visualization software (e.g., ParaView),\n\n<img src=\"file://../../figures/co2_leakage_along_a_fault_paraview.png\">\n\n-   Import the output file *OUTPUT_ELEME.csv* in Python using :mod:`toughio` (two-liners) and do whatever post-processing we want and need.\n\nThis example briefly shows how to import TOUGH output file using :mod:`toughio` and how to visualize it with :mod:`pyvista` (adapted from :mod:`pyvista`'s [documentation](https://docs.pyvista.org/)_).\n"
      ]
    },
    {
      "cell_type": "markdown",
      "metadata": {},
      "source": [
        "First, we unpickle the mesh file and import the last time step of the output file (`OUTPUT_ELEME.csv` in TOUGH3, `OUTPUT` in TOUGH2).\n\n"
      ]
    },
    {
      "cell_type": "code",
      "execution_count": null,
      "metadata": {
        "collapsed": false
      },
      "outputs": [],
      "source": [
        "import toughio\n\nmesh = toughio.read_mesh(\"mesh.pickle\")\nmesh.read_output(\"OUTPUT_ELEME.csv\", time_step=-1)"
      ]
    },
    {
      "cell_type": "markdown",
      "metadata": {},
      "source": [
        "Once output data have been imported, we can simply call the method :meth:`toughio.Mesh.to_pyvista` to convert the mesh to a :class:`pyvista.UnstructuredGrid` object that can be processed by :mod:`pyvista`.\n\n"
      ]
    },
    {
      "cell_type": "code",
      "execution_count": null,
      "metadata": {
        "collapsed": false
      },
      "outputs": [],
      "source": [
        "import pyvista\npyvista.set_plot_theme(\"document\")\n\np = pyvista.Plotter(window_size=(1000, 1000))\np.add_mesh(\n    mesh.to_pyvista(),\n    scalars=\"SAT_G\",\n    cmap=\"viridis_r\",\n    clim=(0.0, 1.0),\n    n_colors=20,\n    show_edges=False,\n    edge_color=(0.5, 0.5, 0.5),\n    scalar_bar_args={\n        \"title\": \"Gas saturation\",\n        \"position_y\": 0.01,\n        \"vertical\": False,\n        \"n_labels\": 6,\n        \"fmt\": \"%.1f\",\n        \"title_font_size\": 20,\n        \"font_family\": \"arial\",\n        \"shadow\": True,\n    },\n)\np.show_grid(\n    show_xaxis=True,\n    show_yaxis=False,\n    show_zaxis=True,\n    xlabel=\"Distance (m)\",\n    zlabel=\"Elevation (m)\",\n    ticks=\"outside\",\n    font_family=\"arial\",\n)\np.view_xz()\np.show()"
      ]
    }
  ],
  "metadata": {
    "kernelspec": {
      "display_name": "Python 3",
      "language": "python",
      "name": "python3"
    },
    "language_info": {
      "codemirror_mode": {
        "name": "ipython",
        "version": 3
      },
      "file_extension": ".py",
      "mimetype": "text/x-python",
      "name": "python",
      "nbconvert_exporter": "python",
      "pygments_lexer": "ipython3",
      "version": "3.9.19"
    }
  },
  "nbformat": 4,
  "nbformat_minor": 0
}